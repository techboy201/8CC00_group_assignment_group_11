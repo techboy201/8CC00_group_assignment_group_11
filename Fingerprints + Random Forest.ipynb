{
 "cells": [
  {
   "cell_type": "code",
   "execution_count": 1,
   "id": "57df93e8-c156-41a3-be36-11d874e443ec",
   "metadata": {},
   "outputs": [
    {
     "name": "stdout",
     "output_type": "stream",
     "text": [
      "Random Forest Model:\n",
      "                 precision    recall  f1-score   support\n",
      "\n",
      "PKM2_inhibition       0.75      0.50      0.60         6\n",
      "ERK2_inhibition       0.77      0.91      0.83        11\n",
      "\n",
      "      micro avg       0.76      0.76      0.76        17\n",
      "      macro avg       0.76      0.70      0.72        17\n",
      "   weighted avg       0.76      0.76      0.75        17\n",
      "    samples avg       0.76      0.76      0.76        17\n",
      "\n"
     ]
    }
   ],
   "source": [
    "import numpy as np\n",
    "import pandas as pd\n",
    "from sklearn.model_selection import train_test_split\n",
    "from sklearn.ensemble import RandomForestClassifier\n",
    "from tensorflow.keras.models import Sequential\n",
    "from tensorflow.keras.layers import Embedding, LSTM, Dense\n",
    "from sklearn.ensemble import VotingClassifier\n",
    "from sklearn.metrics import precision_recall_fscore_support\n",
    "from rdkit import Chem\n",
    "from rdkit.Chem import AllChem\n",
    "from sklearn.preprocessing import StandardScaler\n",
    "from tensorflow.keras.preprocessing.text import Tokenizer\n",
    "from tensorflow.keras.preprocessing.sequence import pad_sequences\n",
    "from sklearn.metrics import classification_report\n",
    "\n",
    "# Load data (assuming it's stored in a CSV file)\n",
    "data = pd.read_csv(\"tested_molecules.csv\")\n",
    "data.columns = [\"SMILES\", \"PKM2_inhibition\", \"ERK2_inhibition\"]\n",
    "\n",
    "# Convert inhibition columns to integers\n",
    "data[\"PKM2_inhibition\"] = data[\"PKM2_inhibition\"].astype(int)\n",
    "data[\"ERK2_inhibition\"] = data[\"ERK2_inhibition\"].astype(int)\n",
    "\n",
    "# Preprocessing for Random Forest\n",
    "# Convert SMILES strings to numerical features (e.g., molecular fingerprints)\n",
    "# Function to convert SMILES to Morgan fingerprints\n",
    "def smiles_to_fingerprint(smiles, radius=2, n_bits=2048):\n",
    "    mol = Chem.MolFromSmiles(smiles)\n",
    "    if mol is None:\n",
    "        return None\n",
    "    fp = AllChem.GetMorganFingerprintAsBitVect(mol, radius, nBits=n_bits)\n",
    "    return np.array(fp)\n",
    "\n",
    "# Apply the function to create the feature matrix\n",
    "data['features'] = data['SMILES'].apply(smiles_to_fingerprint)\n",
    "data = data.dropna(subset=['features'])\n",
    "\n",
    "# Convert list of arrays to 2D array\n",
    "X_rf = np.array(data['features'].tolist())\n",
    "\n",
    "# Create the y matrix for multi-label classification\n",
    "y = data[['PKM2_inhibition', 'ERK2_inhibition']].values\n",
    "\n",
    "# Split the data into training and test sets\n",
    "A_samples = data[data[\"PKM2_inhibition\"] == 1]\n",
    "B_samples = data[data[\"ERK2_inhibition\"] == 1]\n",
    "A_train, A_test = train_test_split(A_samples, test_size=0.2, random_state=42)\n",
    "B_train, B_test = train_test_split(B_samples, test_size=0.2, random_state=42)\n",
    "train_data_rf = pd.concat([A_train, B_train], axis=0).sample(frac=1, random_state=42).reset_index(drop=True)\n",
    "test_data_rf = pd.concat([A_test, B_test], axis=0).sample(frac=1, random_state=42).reset_index(drop=True)\n",
    "\n",
    "# Separate features and labels for Random Forest\n",
    "X_train_rf, y_train_rf = np.array(train_data_rf['features'].tolist()), train_data_rf[['PKM2_inhibition', 'ERK2_inhibition']].values\n",
    "X_test_rf, y_test_rf = np.array(test_data_rf['features'].tolist()), test_data_rf[['PKM2_inhibition', 'ERK2_inhibition']].values\n",
    "\n",
    "# Train and Evaluate the Random Forest Model\n",
    "rf_classifier = RandomForestClassifier(n_estimators=100, random_state=42)\n",
    "rf_classifier.fit(X_train_rf, y_train_rf)\n",
    "\n",
    "rf_predictions = rf_classifier.predict(X_test_rf)\n",
    "rf_report = classification_report(y_test_rf, rf_predictions, target_names=[\"PKM2_inhibition\", \"ERK2_inhibition\"], zero_division=0)\n",
    "\n",
    "print(\"Random Forest Model:\")\n",
    "print(rf_report)"
   ]
  }
 ],
 "metadata": {
  "kernelspec": {
   "display_name": "Python 3 (ipykernel)",
   "language": "python",
   "name": "python3"
  },
  "language_info": {
   "codemirror_mode": {
    "name": "ipython",
    "version": 3
   },
   "file_extension": ".py",
   "mimetype": "text/x-python",
   "name": "python",
   "nbconvert_exporter": "python",
   "pygments_lexer": "ipython3",
   "version": "3.11.5"
  }
 },
 "nbformat": 4,
 "nbformat_minor": 5
}
